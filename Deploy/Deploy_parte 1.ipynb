{
 "cells": [
  {
   "cell_type": "markdown",
   "id": "3ce9e465",
   "metadata": {},
   "source": [
    "## Deploy Parte 1\n",
    "<br>\n",
    "    Nesse trabalho será realizado um projeto com duas bases: uma que será utilizada durante a criação do modelo e outra que seria a base com novos dados forncecida pelo clinete após o modelo já estar em produção.\n",
    "  <br>  - Vamos **determinar o modelo** utilizando os dados disponíveis no arquivo `dadosVenda.xlsx`\n",
    "  <br>  - Depois do modelo exportado, vamos utilizar os dados em `dadosVenda_producao.xlsx`"
   ]
  },
  {
   "cell_type": "markdown",
   "id": "85d114e0",
   "metadata": {},
   "source": [
    "- Para simplificar, vamos usar a Regressão Linear diretamente"
   ]
  },
  {
   "cell_type": "code",
   "execution_count": 1,
   "id": "394705a9",
   "metadata": {},
   "outputs": [],
   "source": [
    "# Importando o pandas\n",
    "import pandas as pd"
   ]
  },
  {
   "cell_type": "code",
   "execution_count": 2,
   "id": "02ffe432",
   "metadata": {},
   "outputs": [],
   "source": [
    "# Importando nossa base\n",
    "base = pd.read_excel('dadosVenda.xlsx')"
   ]
  },
  {
   "cell_type": "code",
   "execution_count": 3,
   "id": "bfacbb60",
   "metadata": {},
   "outputs": [
    {
     "data": {
      "text/html": [
       "<div>\n",
       "<style scoped>\n",
       "    .dataframe tbody tr th:only-of-type {\n",
       "        vertical-align: middle;\n",
       "    }\n",
       "\n",
       "    .dataframe tbody tr th {\n",
       "        vertical-align: top;\n",
       "    }\n",
       "\n",
       "    .dataframe thead th {\n",
       "        text-align: right;\n",
       "    }\n",
       "</style>\n",
       "<table border=\"1\" class=\"dataframe\">\n",
       "  <thead>\n",
       "    <tr style=\"text-align: right;\">\n",
       "      <th></th>\n",
       "      <th>IDRegistro</th>\n",
       "      <th>PrecoOriginal</th>\n",
       "      <th>Desconto</th>\n",
       "      <th>VendaQtd</th>\n",
       "    </tr>\n",
       "  </thead>\n",
       "  <tbody>\n",
       "    <tr>\n",
       "      <th>0</th>\n",
       "      <td>1</td>\n",
       "      <td>23</td>\n",
       "      <td>1.15</td>\n",
       "      <td>81</td>\n",
       "    </tr>\n",
       "    <tr>\n",
       "      <th>1</th>\n",
       "      <td>2</td>\n",
       "      <td>5</td>\n",
       "      <td>0.70</td>\n",
       "      <td>3361</td>\n",
       "    </tr>\n",
       "    <tr>\n",
       "      <th>2</th>\n",
       "      <td>3</td>\n",
       "      <td>15</td>\n",
       "      <td>1.35</td>\n",
       "      <td>1551</td>\n",
       "    </tr>\n",
       "    <tr>\n",
       "      <th>3</th>\n",
       "      <td>4</td>\n",
       "      <td>7</td>\n",
       "      <td>2.03</td>\n",
       "      <td>3036</td>\n",
       "    </tr>\n",
       "    <tr>\n",
       "      <th>4</th>\n",
       "      <td>5</td>\n",
       "      <td>10</td>\n",
       "      <td>0.40</td>\n",
       "      <td>2436</td>\n",
       "    </tr>\n",
       "  </tbody>\n",
       "</table>\n",
       "</div>"
      ],
      "text/plain": [
       "   IDRegistro  PrecoOriginal  Desconto  VendaQtd\n",
       "0           1             23      1.15        81\n",
       "1           2              5      0.70      3361\n",
       "2           3             15      1.35      1551\n",
       "3           4              7      2.03      3036\n",
       "4           5             10      0.40      2436"
      ]
     },
     "execution_count": 3,
     "metadata": {},
     "output_type": "execute_result"
    }
   ],
   "source": [
    "# Visualizando a base\n",
    "base.head()"
   ]
  },
  {
   "cell_type": "code",
   "execution_count": 4,
   "id": "a814e0ca",
   "metadata": {},
   "outputs": [],
   "source": [
    "# Verificando se existem valores vazios\n",
    "base.isnull().sum()\n",
    "\n",
    "# tratando esses valores\n",
    "base.loc[base.Desconto.isnull(), 'Desconto'] = 0"
   ]
  },
  {
   "cell_type": "code",
   "execution_count": 5,
   "id": "c8835998",
   "metadata": {},
   "outputs": [],
   "source": [
    "# Separando X e y\n",
    "X = base[['PrecoOriginal', 'Desconto']]\n",
    "y = base.VendaQtd"
   ]
  },
  {
   "cell_type": "markdown",
   "id": "74ebb72a",
   "metadata": {},
   "source": [
    "**Separando em treino e teste**"
   ]
  },
  {
   "cell_type": "code",
   "execution_count": 6,
   "id": "939e1291",
   "metadata": {},
   "outputs": [],
   "source": [
    "import numpy as np\n",
    "from sklearn.model_selection import train_test_split"
   ]
  },
  {
   "cell_type": "code",
   "execution_count": 7,
   "id": "19679b56",
   "metadata": {},
   "outputs": [],
   "source": [
    "# Separando os dados\n",
    "X_train, X_test, y_train, y_test = train_test_split(X, y, test_size=0.33, random_state=42)"
   ]
  },
  {
   "cell_type": "markdown",
   "id": "9a50422d",
   "metadata": {},
   "source": [
    "**Criando o modelo**"
   ]
  },
  {
   "cell_type": "code",
   "execution_count": 8,
   "id": "678217fc",
   "metadata": {},
   "outputs": [],
   "source": [
    "from sklearn.linear_model import LinearRegression\n",
    "reg = LinearRegression().fit(X_train, y_train)"
   ]
  },
  {
   "cell_type": "code",
   "execution_count": 9,
   "id": "1b3827e5",
   "metadata": {},
   "outputs": [],
   "source": [
    "# Fazendo a previsao\n",
    "y_pred = reg.predict(X_test)"
   ]
  },
  {
   "cell_type": "markdown",
   "id": "c5944b3d",
   "metadata": {},
   "source": [
    "**Avaliando o modelo**"
   ]
  },
  {
   "cell_type": "code",
   "execution_count": 10,
   "id": "f059ffbd",
   "metadata": {},
   "outputs": [],
   "source": [
    "# Importando o metrics do sklearn\n",
    "from sklearn.metrics import mean_absolute_error\n",
    "from sklearn.metrics import mean_squared_error"
   ]
  },
  {
   "cell_type": "code",
   "execution_count": 11,
   "id": "aee788f6",
   "metadata": {},
   "outputs": [
    {
     "data": {
      "text/plain": [
       "0.25078643242467186"
      ]
     },
     "execution_count": 11,
     "metadata": {},
     "output_type": "execute_result"
    }
   ],
   "source": [
    "# Avaliando o erro médio absoluto\n",
    "mean_absolute_error(y_test, y_pred)"
   ]
  },
  {
   "cell_type": "code",
   "execution_count": 12,
   "id": "d79593db",
   "metadata": {},
   "outputs": [
    {
     "data": {
      "text/plain": [
       "0.0854790321083994"
      ]
     },
     "execution_count": 12,
     "metadata": {},
     "output_type": "execute_result"
    }
   ],
   "source": [
    "# Avaliando o erro médio quadrático\n",
    "mean_squared_error(y_test, y_pred)"
   ]
  },
  {
   "cell_type": "markdown",
   "id": "a7c67a73",
   "metadata": {},
   "source": [
    "**Verificar graficamente a relação entre y_test x y_pred**"
   ]
  },
  {
   "cell_type": "code",
   "execution_count": 13,
   "id": "463d7117",
   "metadata": {},
   "outputs": [],
   "source": [
    "import matplotlib.pyplot as plt"
   ]
  },
  {
   "cell_type": "code",
   "execution_count": 14,
   "id": "77f4919e",
   "metadata": {},
   "outputs": [
    {
     "data": {
      "image/png": "[encoded data removed]",
      "text/plain": [
       "<Figure size 640x480 with 1 Axes>"
      ]
     },
     "metadata": {},
     "output_type": "display_data"
    }
   ],
   "source": [
    "# Traçando o gráfico de y_test x y_pred\n",
    "fig, ax = plt.subplots()\n",
    "\n",
    "ax.scatter(y_test, y_pred)\n",
    "ax.plot(y_test, y_pred, '--r')\n",
    "\n",
    "plt.show()"
   ]
  },
  {
   "cell_type": "code",
   "execution_count": 15,
   "id": "08a7a2ca",
   "metadata": {},
   "outputs": [
    {
     "data": {
      "text/plain": [
       "array([-182.99973759,   31.00151165])"
      ]
     },
     "execution_count": 15,
     "metadata": {},
     "output_type": "execute_result"
    }
   ],
   "source": [
    "# Verificando o coef_\n",
    "reg.coef_"
   ]
  },
  {
   "cell_type": "code",
   "execution_count": 16,
   "id": "6f3aaf9e",
   "metadata": {},
   "outputs": [
    {
     "data": {
      "text/plain": [
       "4253.997131672601"
      ]
     },
     "execution_count": 16,
     "metadata": {},
     "output_type": "execute_result"
    }
   ],
   "source": [
    "# E então o intercept_\n",
    "reg.intercept_"
   ]
  },
  {
   "cell_type": "markdown",
   "id": "a59b0ad7",
   "metadata": {},
   "source": [
    "**Persistindo o nosso modelo**"
   ]
  },
  {
   "cell_type": "code",
   "execution_count": 17,
   "id": "b4fc7ca2",
   "metadata": {},
   "outputs": [],
   "source": [
    "# Importando o dump do joblib\n",
    "from joblib import dump"
   ]
  },
  {
   "cell_type": "code",
   "execution_count": 18,
   "id": "e1386970",
   "metadata": {},
   "outputs": [
    {
     "data": {
      "text/plain": [
       "['regressor.joblib']"
      ]
     },
     "execution_count": 18,
     "metadata": {},
     "output_type": "execute_result"
    }
   ],
   "source": [
    "# E então fazendo o dump do nosso modelo\n",
    "dump(reg, 'regressor.joblib')"
   ]
  }
 ],
 "metadata": {
  "kernelspec": {
   "display_name": "Python 3 (ipykernel)",
   "language": "python",
   "name": "python3"
  },
  "language_info": {
   "codemirror_mode": {
    "name": "ipython",
    "version": 3
   },
   "file_extension": ".py",
   "mimetype": "text/x-python",
   "name": "python",
   "nbconvert_exporter": "python",
   "pygments_lexer": "ipython3",
   "version": "3.9.13"
  }
 },
 "nbformat": 4,
 "nbformat_minor": 5
}
