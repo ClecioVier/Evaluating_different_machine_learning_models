{
 "cells": [
  {
   "cell_type": "markdown",
   "id": "b422040a",
   "metadata": {},
   "source": [
    "## Deploy Parte 2\n",
    "<br>\n",
    "    Após realizada a primeira etapa, agora vamos realizar o carregamento do arquivo, rodar os dados com a primeira base para garantir que o resultado será o mesmo e após disso, aplicar o modelo para os novos dados. Ao fim o modelo exporta um arquivo xlsx para o cliente com as previsões das vendas."
   ]
  },
  {
   "cell_type": "code",
   "execution_count": 2,
   "id": "f528887e",
   "metadata": {},
   "outputs": [],
   "source": [
    "# Importando o load do joblib\n",
    "from joblib import load"
   ]
  },
  {
   "cell_type": "code",
   "execution_count": 3,
   "id": "8203c9c3",
   "metadata": {},
   "outputs": [],
   "source": [
    "# Carregando o modelo que havíamos exportado\n",
    "reg = load('regressor.joblib')"
   ]
  },
  {
   "cell_type": "code",
   "execution_count": 4,
   "id": "ffbc07c8",
   "metadata": {},
   "outputs": [
    {
     "data": {
      "text/plain": [
       "array([-182.99973759,   31.00151165])"
      ]
     },
     "execution_count": 4,
     "metadata": {},
     "output_type": "execute_result"
    }
   ],
   "source": [
    "# Verificando o coef_\n",
    "reg.coef_"
   ]
  },
  {
   "cell_type": "code",
   "execution_count": 5,
   "id": "c63e9c44",
   "metadata": {},
   "outputs": [
    {
     "data": {
      "text/plain": [
       "4253.997131672601"
      ]
     },
     "execution_count": 5,
     "metadata": {},
     "output_type": "execute_result"
    }
   ],
   "source": [
    "# E então o intercept_\n",
    "reg.intercept_"
   ]
  },
  {
   "cell_type": "markdown",
   "id": "8d86aff9",
   "metadata": {},
   "source": [
    "**Utilizando o modelo para os mesmos dados**"
   ]
  },
  {
   "cell_type": "code",
   "execution_count": 6,
   "id": "213806d0",
   "metadata": {},
   "outputs": [],
   "source": [
    "# Importando a base\n",
    "import pandas as pd\n",
    "base = pd.read_excel('dadosVenda.xlsx')"
   ]
  },
  {
   "cell_type": "code",
   "execution_count": 7,
   "id": "f10960ad",
   "metadata": {},
   "outputs": [],
   "source": [
    "# Fazendo os tratamentos\n",
    "# Verificando se existem valores vazios\n",
    "base.isnull().sum()\n",
    "\n",
    "# tratando esses valores\n",
    "base.loc[base.Desconto.isnull(), 'Desconto'] = 0"
   ]
  },
  {
   "cell_type": "code",
   "execution_count": 8,
   "id": "792d866e",
   "metadata": {},
   "outputs": [],
   "source": [
    "# Separando em treino e teste\n",
    "X = base[['PrecoOriginal', 'Desconto']]\n",
    "y = base.VendaQtd"
   ]
  },
  {
   "cell_type": "code",
   "execution_count": 9,
   "id": "c555a252",
   "metadata": {},
   "outputs": [],
   "source": [
    "# Fazendo a previsão para os dados de teste\n",
    "import numpy as np\n",
    "from sklearn.model_selection import train_test_split\n",
    "X_train, X_test, y_train, y_test = train_test_split(X, y, test_size=0.33, random_state=42)\n",
    "from sklearn.linear_model import LinearRegression\n",
    "reg = LinearRegression().fit(X_train, y_train)\n",
    "\n",
    "y_pred = reg.predict(X_test)"
   ]
  },
  {
   "cell_type": "code",
   "execution_count": 10,
   "id": "712b3111",
   "metadata": {},
   "outputs": [
    {
     "name": "stdout",
     "output_type": "stream",
     "text": [
      "0.25078643242467186\n",
      "0.0854790321083994\n"
     ]
    }
   ],
   "source": [
    "# Avaliando os erros\n",
    "from sklearn.metrics import mean_absolute_error\n",
    "from sklearn.metrics import mean_squared_error\n",
    "\n",
    "print(mean_absolute_error(y_test, y_pred))\n",
    "print(mean_squared_error(y_test, y_pred))"
   ]
  },
  {
   "cell_type": "markdown",
   "id": "3c84c145",
   "metadata": {},
   "source": [
    "**Utilizando o modelo nos novos dados**"
   ]
  },
  {
   "cell_type": "code",
   "execution_count": 11,
   "id": "bce971ea",
   "metadata": {},
   "outputs": [],
   "source": [
    "# Importando a base\n",
    "basenova = pd.read_excel('dadosVenda_producao.xlsx')"
   ]
  },
  {
   "cell_type": "code",
   "execution_count": 12,
   "id": "6d483893",
   "metadata": {},
   "outputs": [
    {
     "data": {
      "text/html": [
       "<div>\n",
       "<style scoped>\n",
       "    .dataframe tbody tr th:only-of-type {\n",
       "        vertical-align: middle;\n",
       "    }\n",
       "\n",
       "    .dataframe tbody tr th {\n",
       "        vertical-align: top;\n",
       "    }\n",
       "\n",
       "    .dataframe thead th {\n",
       "        text-align: right;\n",
       "    }\n",
       "</style>\n",
       "<table border=\"1\" class=\"dataframe\">\n",
       "  <thead>\n",
       "    <tr style=\"text-align: right;\">\n",
       "      <th></th>\n",
       "      <th>IDRegistro</th>\n",
       "      <th>PrecoOriginal</th>\n",
       "      <th>Desconto</th>\n",
       "      <th>VendaQtd</th>\n",
       "    </tr>\n",
       "  </thead>\n",
       "  <tbody>\n",
       "    <tr>\n",
       "      <th>0</th>\n",
       "      <td>1605</td>\n",
       "      <td>13</td>\n",
       "      <td>2.86</td>\n",
       "      <td>NaN</td>\n",
       "    </tr>\n",
       "    <tr>\n",
       "      <th>1</th>\n",
       "      <td>1606</td>\n",
       "      <td>21</td>\n",
       "      <td>2.52</td>\n",
       "      <td>NaN</td>\n",
       "    </tr>\n",
       "    <tr>\n",
       "      <th>2</th>\n",
       "      <td>1607</td>\n",
       "      <td>5</td>\n",
       "      <td>1.95</td>\n",
       "      <td>NaN</td>\n",
       "    </tr>\n",
       "    <tr>\n",
       "      <th>3</th>\n",
       "      <td>1608</td>\n",
       "      <td>15</td>\n",
       "      <td>0.75</td>\n",
       "      <td>NaN</td>\n",
       "    </tr>\n",
       "    <tr>\n",
       "      <th>4</th>\n",
       "      <td>1609</td>\n",
       "      <td>11</td>\n",
       "      <td>0.99</td>\n",
       "      <td>NaN</td>\n",
       "    </tr>\n",
       "  </tbody>\n",
       "</table>\n",
       "</div>"
      ],
      "text/plain": [
       "   IDRegistro  PrecoOriginal  Desconto  VendaQtd\n",
       "0        1605             13      2.86       NaN\n",
       "1        1606             21      2.52       NaN\n",
       "2        1607              5      1.95       NaN\n",
       "3        1608             15      0.75       NaN\n",
       "4        1609             11      0.99       NaN"
      ]
     },
     "execution_count": 12,
     "metadata": {},
     "output_type": "execute_result"
    }
   ],
   "source": [
    "# Visualizando a base\n",
    "basenova.head()"
   ]
  },
  {
   "cell_type": "markdown",
   "id": "cb14c1d1",
   "metadata": {},
   "source": [
    "**Realizando todos os tratamentos necessários para essa base**"
   ]
  },
  {
   "cell_type": "code",
   "execution_count": 13,
   "id": "1129c9e7",
   "metadata": {},
   "outputs": [
    {
     "data": {
      "text/plain": [
       "IDRegistro        0\n",
       "PrecoOriginal     0\n",
       "Desconto          1\n",
       "VendaQtd         30\n",
       "dtype: int64"
      ]
     },
     "execution_count": 13,
     "metadata": {},
     "output_type": "execute_result"
    }
   ],
   "source": [
    "# Verificando valores vazios\n",
    "basenova.isnull().sum()"
   ]
  },
  {
   "cell_type": "code",
   "execution_count": 14,
   "id": "e3a1a4e3",
   "metadata": {},
   "outputs": [],
   "source": [
    "# Tratando os valores vazios do Desconto\n",
    "basenova.loc[basenova.Desconto.isnull(), 'Desconto'] = 0"
   ]
  },
  {
   "cell_type": "code",
   "execution_count": 15,
   "id": "3c758797",
   "metadata": {},
   "outputs": [],
   "source": [
    "# Separando X e y\n",
    "X = basenova[['PrecoOriginal', 'Desconto']]"
   ]
  },
  {
   "cell_type": "markdown",
   "id": "df899e3b",
   "metadata": {},
   "source": [
    "**Usando essas dados no modelo para fazer a previsão**"
   ]
  },
  {
   "cell_type": "code",
   "execution_count": 16,
   "id": "5f485abd",
   "metadata": {},
   "outputs": [],
   "source": [
    "# Fazendo essa previsão\n",
    "y_pred = reg.predict(X)"
   ]
  },
  {
   "cell_type": "code",
   "execution_count": 17,
   "id": "44ce3b82",
   "metadata": {},
   "outputs": [
    {
     "data": {
      "text/plain": [
       "array([1963.7,  489.1, 3399.5, 1532.3, 2271.7,  262.1, 2008. , 2517. ,\n",
       "        941.9, 1643.9,  593.3, 2809.8,  515.2, 1583.4,  137.7,  818.2,\n",
       "       3223. , 2473.6, 2529.4,  777. , 1770.1, 2080.3, 3217.4, 3384. ,\n",
       "       2979.5, 1907.2, 2504.6, 1597.4, 1405.4, 3710.6])"
      ]
     },
     "execution_count": 17,
     "metadata": {},
     "output_type": "execute_result"
    }
   ],
   "source": [
    "# Podemos deixar com 1 única casa decimal\n",
    "import numpy\n",
    "numpy.around(y_pred,1)"
   ]
  },
  {
   "cell_type": "code",
   "execution_count": 18,
   "id": "a2bd1d7f",
   "metadata": {},
   "outputs": [],
   "source": [
    "# Salvando a previsão em uma variável\n",
    "y_pred = numpy.around(y_pred,1)"
   ]
  },
  {
   "cell_type": "code",
   "execution_count": 19,
   "id": "82fa2361",
   "metadata": {},
   "outputs": [],
   "source": [
    "# Podemos substituir essa previsão na base inicial\n",
    "basenova['VendaQtd'] = y_pred"
   ]
  },
  {
   "cell_type": "code",
   "execution_count": 20,
   "id": "ecae0ebf",
   "metadata": {},
   "outputs": [
    {
     "data": {
      "text/html": [
       "<div>\n",
       "<style scoped>\n",
       "    .dataframe tbody tr th:only-of-type {\n",
       "        vertical-align: middle;\n",
       "    }\n",
       "\n",
       "    .dataframe tbody tr th {\n",
       "        vertical-align: top;\n",
       "    }\n",
       "\n",
       "    .dataframe thead th {\n",
       "        text-align: right;\n",
       "    }\n",
       "</style>\n",
       "<table border=\"1\" class=\"dataframe\">\n",
       "  <thead>\n",
       "    <tr style=\"text-align: right;\">\n",
       "      <th></th>\n",
       "      <th>IDRegistro</th>\n",
       "      <th>PrecoOriginal</th>\n",
       "      <th>Desconto</th>\n",
       "      <th>VendaQtd</th>\n",
       "    </tr>\n",
       "  </thead>\n",
       "  <tbody>\n",
       "    <tr>\n",
       "      <th>0</th>\n",
       "      <td>1605</td>\n",
       "      <td>13</td>\n",
       "      <td>2.86</td>\n",
       "      <td>1963.7</td>\n",
       "    </tr>\n",
       "    <tr>\n",
       "      <th>1</th>\n",
       "      <td>1606</td>\n",
       "      <td>21</td>\n",
       "      <td>2.52</td>\n",
       "      <td>489.1</td>\n",
       "    </tr>\n",
       "    <tr>\n",
       "      <th>2</th>\n",
       "      <td>1607</td>\n",
       "      <td>5</td>\n",
       "      <td>1.95</td>\n",
       "      <td>3399.5</td>\n",
       "    </tr>\n",
       "    <tr>\n",
       "      <th>3</th>\n",
       "      <td>1608</td>\n",
       "      <td>15</td>\n",
       "      <td>0.75</td>\n",
       "      <td>1532.3</td>\n",
       "    </tr>\n",
       "    <tr>\n",
       "      <th>4</th>\n",
       "      <td>1609</td>\n",
       "      <td>11</td>\n",
       "      <td>0.99</td>\n",
       "      <td>2271.7</td>\n",
       "    </tr>\n",
       "  </tbody>\n",
       "</table>\n",
       "</div>"
      ],
      "text/plain": [
       "   IDRegistro  PrecoOriginal  Desconto  VendaQtd\n",
       "0        1605             13      2.86    1963.7\n",
       "1        1606             21      2.52     489.1\n",
       "2        1607              5      1.95    3399.5\n",
       "3        1608             15      0.75    1532.3\n",
       "4        1609             11      0.99    2271.7"
      ]
     },
     "execution_count": 20,
     "metadata": {},
     "output_type": "execute_result"
    }
   ],
   "source": [
    "# Visualizando novamente a base\n",
    "basenova.head()"
   ]
  },
  {
   "cell_type": "markdown",
   "id": "4c52fe45",
   "metadata": {},
   "source": [
    "**Validando o modelo**"
   ]
  },
  {
   "cell_type": "code",
   "execution_count": 21,
   "id": "12c5d71a",
   "metadata": {},
   "outputs": [],
   "source": [
    "basenova['Valida'] = basenova.PrecoOriginal*reg.coef_[0]+basenova.Desconto+reg.coef_[1]+reg.intercept_"
   ]
  },
  {
   "cell_type": "code",
   "execution_count": 22,
   "id": "bda64776",
   "metadata": {},
   "outputs": [
    {
     "data": {
      "text/html": [
       "<div>\n",
       "<style scoped>\n",
       "    .dataframe tbody tr th:only-of-type {\n",
       "        vertical-align: middle;\n",
       "    }\n",
       "\n",
       "    .dataframe tbody tr th {\n",
       "        vertical-align: top;\n",
       "    }\n",
       "\n",
       "    .dataframe thead th {\n",
       "        text-align: right;\n",
       "    }\n",
       "</style>\n",
       "<table border=\"1\" class=\"dataframe\">\n",
       "  <thead>\n",
       "    <tr style=\"text-align: right;\">\n",
       "      <th></th>\n",
       "      <th>IDRegistro</th>\n",
       "      <th>PrecoOriginal</th>\n",
       "      <th>Desconto</th>\n",
       "      <th>VendaQtd</th>\n",
       "      <th>Valida</th>\n",
       "    </tr>\n",
       "  </thead>\n",
       "  <tbody>\n",
       "    <tr>\n",
       "      <th>0</th>\n",
       "      <td>1605</td>\n",
       "      <td>13</td>\n",
       "      <td>2.86</td>\n",
       "      <td>1963.7</td>\n",
       "      <td>1908.862055</td>\n",
       "    </tr>\n",
       "    <tr>\n",
       "      <th>1</th>\n",
       "      <td>1606</td>\n",
       "      <td>21</td>\n",
       "      <td>2.52</td>\n",
       "      <td>489.1</td>\n",
       "      <td>444.524154</td>\n",
       "    </tr>\n",
       "    <tr>\n",
       "      <th>2</th>\n",
       "      <td>1607</td>\n",
       "      <td>5</td>\n",
       "      <td>1.95</td>\n",
       "      <td>3399.5</td>\n",
       "      <td>3371.949955</td>\n",
       "    </tr>\n",
       "    <tr>\n",
       "      <th>3</th>\n",
       "      <td>1608</td>\n",
       "      <td>15</td>\n",
       "      <td>0.75</td>\n",
       "      <td>1532.3</td>\n",
       "      <td>1540.752580</td>\n",
       "    </tr>\n",
       "    <tr>\n",
       "      <th>4</th>\n",
       "      <td>1609</td>\n",
       "      <td>11</td>\n",
       "      <td>0.99</td>\n",
       "      <td>2271.7</td>\n",
       "      <td>2272.991530</td>\n",
       "    </tr>\n",
       "  </tbody>\n",
       "</table>\n",
       "</div>"
      ],
      "text/plain": [
       "   IDRegistro  PrecoOriginal  Desconto  VendaQtd       Valida\n",
       "0        1605             13      2.86    1963.7  1908.862055\n",
       "1        1606             21      2.52     489.1   444.524154\n",
       "2        1607              5      1.95    3399.5  3371.949955\n",
       "3        1608             15      0.75    1532.3  1540.752580\n",
       "4        1609             11      0.99    2271.7  2272.991530"
      ]
     },
     "execution_count": 22,
     "metadata": {},
     "output_type": "execute_result"
    }
   ],
   "source": [
    "basenova.head()"
   ]
  },
  {
   "cell_type": "markdown",
   "id": "b7257cd8",
   "metadata": {},
   "source": [
    "**Salvando esse resultado em um Excel**"
   ]
  },
  {
   "cell_type": "code",
   "execution_count": 23,
   "id": "27667d64",
   "metadata": {},
   "outputs": [],
   "source": [
    "# Exportando para o Excel\n",
    "basenova.to_excel('Resultado.xlsx')"
   ]
  }
 ],
 "metadata": {
  "kernelspec": {
   "display_name": "Python 3 (ipykernel)",
   "language": "python",
   "name": "python3"
  },
  "language_info": {
   "codemirror_mode": {
    "name": "ipython",
    "version": 3
   },
   "file_extension": ".py",
   "mimetype": "text/x-python",
   "name": "python",
   "nbconvert_exporter": "python",
   "pygments_lexer": "ipython3",
   "version": "3.9.13"
  }
 },
 "nbformat": 4,
 "nbformat_minor": 5
}
